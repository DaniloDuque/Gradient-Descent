{
 "cells": [
  {
   "cell_type": "markdown",
   "id": "5cf87800430b14e9",
   "metadata": {},
   "source": [
    "# Autodiff Library Testing Notebook\n",
    "This notebook tests the C++ autodiff library with Python bindings.\n",
    "### Setup\n",
    "Make sure you've built the module using:\n",
    "```bash\n",
    "cd src/notebooks/autodiff\n",
    "python3 setup.py build_ext --inplace\n",
    "```"
   ]
  },
  {
   "cell_type": "code",
   "execution_count": null,
   "id": "f94b2e3cb9747e2",
   "metadata": {
    "ExecuteTime": {
     "end_time": "2025-06-19T00:08:35.448693Z",
     "start_time": "2025-06-19T00:08:35.442672Z"
    }
   },
   "outputs": [],
   "source": [
    "import autodiff\n",
    "print(\"Autodiff module loaded successfully!\")"
   ]
  },
  {
   "cell_type": "markdown",
   "id": "basic_operations",
   "metadata": {},
   "source": [
    "## Basic Operations"
   ]
  },
  {
   "cell_type": "code",
   "execution_count": null,
   "id": "basic_test",
   "metadata": {},
   "outputs": [],
   "source": [
    "# Create variables\n",
    "x = autodiff.Variable.create(2.0, True)  # requires_grad=True\n",
    "y = autodiff.Variable.create(3.0, True)\n",
    "\n",
    "print(f\"x = {x}\")\n",
    "print(f\"y = {y}\")"
   ]
  },
  {
   "cell_type": "code",
   "execution_count": null,
   "id": "arithmetic_ops",
   "metadata": {},
   "outputs": [],
   "source": [
    "# Arithmetic operations\n",
    "z1 = x + y\n",
    "z2 = x * y\n",
    "z3 = x - y\n",
    "z4 = x / y\n",
    "\n",
    "print(f\"x + y = {z1.value}\")\n",
    "print(f\"x * y = {z2.value}\")\n",
    "print(f\"x - y = {z3.value}\")\n",
    "print(f\"x / y = {z4.value}\")"
   ]
  },
  {
   "cell_type": "markdown",
   "id": "gradient_computation",
   "metadata": {},
   "source": [
    "## Gradient Computation"
   ]
  },
  {
   "cell_type": "code",
   "execution_count": null,
   "id": "simple_gradient",
   "metadata": {},
   "outputs": [],
   "source": [
    "# Simple gradient: f(x) = x^2, df/dx = 2x\n",
    "x = autodiff.Variable.create(3.0, True)\n",
    "f = x * x\n",
    "\n",
    "print(f\"f(x) = x^2 where x = {x.value}\")\n",
    "print(f\"f = {f.value}\")\n",
    "\n",
    "f.backward()\n",
    "print(f\"df/dx = {x.grad} (expected: {2 * x.value})\")"
   ]
  },
  {
   "cell_type": "code",
   "execution_count": null,
   "id": "complex_gradient",
   "metadata": {},
   "outputs": [],
   "source": [
    "# More complex function: f(x,y) = x^2 + 2*x*y + y^2\n",
    "x = autodiff.Variable.create(2.0, True)\n",
    "y = autodiff.Variable.create(3.0, True)\n",
    "\n",
    "f = x * x + 2 * x * y + y * y\n",
    "\n",
    "print(f\"f(x,y) = x^2 + 2*x*y + y^2\")\n",
    "print(f\"x = {x.value}, y = {y.value}\")\n",
    "print(f\"f = {f.value}\")\n",
    "\n",
    "f.backward()\n",
    "print(f\"∂f/∂x = {x.grad} (expected: {2*x.value + 2*y.value})\")\n",
    "print(f\"∂f/∂y = {y.grad} (expected: {2*x.value + 2*y.value})\")"
   ]
  },
  {
   "cell_type": "markdown",
   "id": "math_functions",
   "metadata": {},
   "source": [
    "## Mathematical Functions"
   ]
  },
  {
   "cell_type": "code",
   "execution_count": null,
   "id": "exp_log",
   "metadata": {},
   "outputs": [],
   "source": [
    "# Exponential and logarithm\n",
    "x = autodiff.Variable.create(1.0, True)\n",
    "\n",
    "exp_x = x.exp()\n",
    "log_x = x.log()\n",
    "\n",
    "print(f\"exp({x.value}) = {exp_x.value}\")\n",
    "print(f\"log({x.value}) = {log_x.value}\")\n",
    "\n",
    "# Test gradients\n",
    "exp_x.backward()\n",
    "print(f\"d/dx exp(x) = {x.grad} (expected: {exp_x.value})\")\n",
    "\n",
    "x.zero_grad()  # Reset gradient\n",
    "log_x.backward()\n",
    "print(f\"d/dx log(x) = {x.grad} (expected: {1/x.value})\")"
   ]
  },
  {
   "cell_type": "code",
   "execution_count": null,
   "id": "trig_functions",
   "metadata": {},
   "outputs": [],
   "source": [
    "# Trigonometric functions\n",
    "import math\n",
    "\n",
    "x = autodiff.Variable.create(math.pi/4, True)  # 45 degrees\n",
    "\n",
    "sin_x = x.sin()\n",
    "cos_x = x.cos()\n",
    "\n",
    "print(f\"sin(π/4) = {sin_x.value} (expected: {math.sqrt(2)/2})\")\n",
    "print(f\"cos(π/4) = {cos_x.value} (expected: {math.sqrt(2)/2})\")\n",
    "\n",
    "# Test gradients\n",
    "sin_x.backward()\n",
    "print(f\"d/dx sin(x) = {x.grad} (expected: {math.cos(x.value)})\")\n",
    "\n",
    "x.zero_grad()\n",
    "cos_x.backward()\n",
    "print(f\"d/dx cos(x) = {x.grad} (expected: {-math.sin(x.value)})\")"
   ]
  }
 ],
 "metadata": {
  "kernelspec": {
   "display_name": "Python 3",
   "language": "python",
   "name": "python3"
  },
  "language_info": {
   "codemirror_mode": {
    "name": "ipython",
    "version": 3
   },
   "file_extension": ".py",
   "mimetype": "text/x-python",
   "name": "python",
   "nbconvert_exporter": "python",
   "pygments_lexer": "ipython3",
   "version": "3.13.0"
  }
 },
 "nbformat": 4,
 "nbformat_minor": 5
}
