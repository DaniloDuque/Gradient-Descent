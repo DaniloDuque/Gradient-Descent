{
 "cells": [
  {
   "cell_type": "markdown",
   "id": "5cf87800430b14e9",
   "metadata": {},
   "source": [
    "# Autodiff Library Testing Notebook\n",
    "This notebook tests the C++ autodiff library with Python bindings.\n",
    "### Setup\n",
    "Make sure you've built the module using either:\n",
    "- CMake: `cmake .. && make autodiff` from build directory\n",
    "- pip: `pip install -e .` from this directory"
   ]
  },
  {
   "cell_type": "code",
   "execution_count": null,
   "id": "f94b2e3cb9747e2",
   "metadata": {
    "ExecuteTime": {
     "end_time": "2025-06-19T00:08:35.448693Z",
     "start_time": "2025-06-19T00:08:35.442672Z"
    }
   },
   "outputs": [],
   "source": [
    "import sys\n",
    "print(sys.executable)\n",
    "import autodiff"
   ]
  }
 ],
 "metadata": {
  "kernelspec": {
   "display_name": "Python 3",
   "language": "python",
   "name": "python3"
  },
  "language_info": {
   "codemirror_mode": {
    "name": "ipython",
    "version": 3
   },
   "file_extension": ".py",
   "mimetype": "text/x-python",
   "name": "python",
   "nbconvert_exporter": "python",
   "pygments_lexer": "ipython3",
   "version": "3.13.0"
  }
 },
 "nbformat": 4,
 "nbformat_minor": 5
}
