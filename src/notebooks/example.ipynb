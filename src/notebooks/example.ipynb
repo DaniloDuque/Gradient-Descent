{
 "cells": [
  {
   "cell_type": "code",
   "execution_count": 1,
   "id": "d448d9f0",
   "metadata": {},
   "outputs": [
    {
     "ename": "ModuleNotFoundError",
     "evalue": "No module named 'gradient_descent'",
     "output_type": "error",
     "traceback": [
      "\u001b[0;31m---------------------------------------------------------------------------\u001b[0m",
      "\u001b[0;31mModuleNotFoundError\u001b[0m                       Traceback (most recent call last)",
      "Cell \u001b[0;32mIn[1], line 1\u001b[0m\n\u001b[0;32m----> 1\u001b[0m \u001b[38;5;28;01mimport\u001b[39;00m\u001b[38;5;250m \u001b[39m\u001b[38;5;21;01mgradient_descent\u001b[39;00m\u001b[38;5;250m \u001b[39m\u001b[38;5;28;01mas\u001b[39;00m\u001b[38;5;250m \u001b[39m\u001b[38;5;21;01mgd\u001b[39;00m\n\u001b[1;32m      2\u001b[0m \u001b[38;5;66;03m# Create training data\u001b[39;00m\n\u001b[1;32m      3\u001b[0m X \u001b[38;5;241m=\u001b[39m [\n\u001b[1;32m      4\u001b[0m     [\u001b[38;5;241m1.0\u001b[39m, \u001b[38;5;241m0.0\u001b[39m, \u001b[38;5;241m2.0\u001b[39m, \u001b[38;5;241m1.0\u001b[39m, \u001b[38;5;241m3.0\u001b[39m],\n\u001b[1;32m      5\u001b[0m     [\u001b[38;5;241m0.0\u001b[39m, \u001b[38;5;241m1.0\u001b[39m, \u001b[38;5;241m1.0\u001b[39m, \u001b[38;5;241m0.0\u001b[39m, \u001b[38;5;241m2.0\u001b[39m],\n\u001b[0;32m   (...)\u001b[0m\n\u001b[1;32m     13\u001b[0m     [\u001b[38;5;241m1.0\u001b[39m, \u001b[38;5;241m3.0\u001b[39m, \u001b[38;5;241m0.5\u001b[39m, \u001b[38;5;241m1.5\u001b[39m, \u001b[38;5;241m0.0\u001b[39m]\n\u001b[1;32m     14\u001b[0m ]\n",
      "\u001b[0;31mModuleNotFoundError\u001b[0m: No module named 'gradient_descent'"
     ]
    }
   ],
   "source": [
    "import gradient_descent as gd\n",
    "# Create training data\n",
    "X = [\n",
    "    [1.0, 0.0, 2.0, 1.0, 3.0],\n",
    "    [0.0, 1.0, 1.0, 0.0, 2.0],\n",
    "    [2.0, 3.0, 0.5, 1.5, 4.0],\n",
    "    [1.0, 2.0, 0.0, 0.0, 1.0],\n",
    "    [0.5, 1.0, 1.5, 1.0, 0.0],\n",
    "    [3.0, 2.0, 2.0, 1.0, 1.0],\n",
    "    [2.0, 1.0, 0.0, 0.5, 0.0],\n",
    "    [1.0, 1.0, 1.0, 2.0, 2.0],\n",
    "    [0.0, 2.0, 2.0, 0.0, 1.0],\n",
    "    [1.0, 3.0, 0.5, 1.5, 0.0]\n",
    "]\n",
    "\n",
    "# True coefficients: y = 2x₁ + 3x₂ + 0.5x₃ + 1.5x₄ + 4x₅\n",
    "y_true = [\n",
    "    2*1 + 3*0 + 0.5*2 + 1.5*1 + 4*3,\n",
    "    2*0 + 3*1 + 0.5*1 + 1.5*0 + 4*2,\n",
    "    2*2 + 3*3 + 0.5*0.5 + 1.5*1.5 + 4*4,\n",
    "    2*1 + 3*2 + 0.5*0 + 1.5*0 + 4*1,\n",
    "    2*0.5 + 3*1 + 0.5*1.5 + 1.5*1 + 4*0,\n",
    "    2*3 + 3*2 + 0.5*2 + 1.5*1 + 4*1,\n",
    "    2*2 + 3*1 + 0.5*0 + 1.5*0.5 + 4*0,\n",
    "    2*1 + 3*1 + 0.5*1 + 1.5*2 + 4*2,\n",
    "    2*0 + 3*2 + 0.5*2 + 1.5*0 + 4*1,\n",
    "    2*1 + 3*3 + 0.5*0.5 + 1.5*1.5 + 4*0\n",
    "]\n",
    "\n",
    "# Initialize weights\n",
    "w = [gd.Variable.create(0.1, True) for _ in range(5)]\n",
    "\n",
    "# Create optimizer and loss function\n",
    "optimizer = gd.Vanilla()\n",
    "loss_fn = gd.MSE()\n",
    "learning_rate = 0.01\n",
    "\n",
    "print(\"================ Gradient Descent Training ================\")\n",
    "\n",
    "# Training loop\n",
    "for epoch in range(100):\n",
    "    optimizer.train(w, X, y_true, loss_fn, learning_rate)\n",
    "    \n",
    "    # Compute predictions\n",
    "    y_pred = []\n",
    "    for x_i in X:\n",
    "        pred = gd.Variable.create(0.0)\n",
    "        for w_j, x_ij in zip(w, x_i):\n",
    "            pred = pred + w_j * gd.Variable.create(x_ij)\n",
    "        y_pred.append(pred)\n",
    "    \n",
    "    # Compute loss\n",
    "    loss = loss_fn.compute(y_pred, y_true)\n",
    "    \n",
    "    print(f\"Epoch {epoch+1:3d} | Loss: {loss.value():.6f} | Weights: [ {' '.join(f'{w_i.value():.6f}' for w_i in w)} ]\")\n",
    "\n",
    "print(\"===========================================================\")\n",
    "print(\"Final Weights:\")\n",
    "for i, w_i in enumerate(w):\n",
    "    print(f\"  w[{i}] = {w_i.value():.6f}\")\n"
   ]
  }
 ],
 "metadata": {
  "kernelspec": {
   "display_name": "Python 3",
   "language": "python",
   "name": "python3"
  },
  "language_info": {
   "codemirror_mode": {
    "name": "ipython",
    "version": 3
   },
   "file_extension": ".py",
   "mimetype": "text/x-python",
   "name": "python",
   "nbconvert_exporter": "python",
   "pygments_lexer": "ipython3",
   "version": "3.13.4"
  }
 },
 "nbformat": 4,
 "nbformat_minor": 5
}
